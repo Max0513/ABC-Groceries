{
 "cells": [
  {
   "cell_type": "code",
   "execution_count": 1,
   "metadata": {},
   "outputs": [],
   "source": [
    "# Imports\n",
    "import pandas as pd\n",
    "from scipy.stats import chi2_contingency, chi2"
   ]
  },
  {
   "cell_type": "code",
   "execution_count": 7,
   "metadata": {},
   "outputs": [],
   "source": [
    "# Get data\n",
    "data = pd.read_excel('Data/grocery_database.xlsx', sheet_name='campaign_data')"
   ]
  },
  {
   "cell_type": "code",
   "execution_count": 8,
   "metadata": {},
   "outputs": [],
   "source": [
    "# filter data\n",
    "data = data.loc[data['mailer_type'] != 'Control']"
   ]
  },
  {
   "cell_type": "code",
   "execution_count": 12,
   "metadata": {},
   "outputs": [
    {
     "data": {
      "text/plain": [
       "array([[252, 123],\n",
       "       [209, 127]])"
      ]
     },
     "execution_count": 12,
     "metadata": {},
     "output_type": "execute_result"
    }
   ],
   "source": [
    "# Create a matrix of observed values\n",
    "observed_values = pd.crosstab(data['mailer_type'], \n",
    "                              data['signup_flag']\n",
    "                             ).values\n",
    "observed_values"
   ]
  },
  {
   "cell_type": "code",
   "execution_count": 18,
   "metadata": {},
   "outputs": [
    {
     "name": "stdout",
     "output_type": "stream",
     "text": [
      "mailer 1 rates: 0.328 \n",
      "mailer 2 rates : 0.37797619047619047\n"
     ]
    }
   ],
   "source": [
    "mailer1_rates = 123 / (252 + 123)\n",
    "mailer2_rates = 127 / (209 + 127)\n",
    "print(f'mailer 1 rates: {mailer1_rates} \\nmailer 2 rates : {mailer2_rates}')"
   ]
  },
  {
   "cell_type": "code",
   "execution_count": 19,
   "metadata": {},
   "outputs": [],
   "source": [
    "# State hypotheses\n",
    "\n",
    "null_hypothesis = 'There is NO relationship between mailer type and signup rates'\n",
    "\n",
    "alternate_hypothesis = 'There IS a relationship between mailer type and signup rates'\n",
    "\n",
    "acceptance_criteria = 0.05"
   ]
  },
  {
   "cell_type": "code",
   "execution_count": 21,
   "metadata": {},
   "outputs": [
    {
     "name": "stdout",
     "output_type": "stream",
     "text": [
      "chi2 : 1.9414468614812481\n",
      "P Value : 0.16351152223398197\n"
     ]
    }
   ],
   "source": [
    "# Calculate expected frequencies & Chi square statistics\n",
    "\n",
    "chi2_statistic, p_value, dof, expected_values = chi2_contingency(observed_values,\n",
    "                                                                 correction = False # For degree of freedom of 1\n",
    "                                                                )\n",
    "\n",
    "print(f'chi2 : {chi2_statistic}\\nP Value : {p_value}')"
   ]
  },
  {
   "cell_type": "code",
   "execution_count": 23,
   "metadata": {},
   "outputs": [
    {
     "name": "stdout",
     "output_type": "stream",
     "text": [
      "3.841458820694124\n"
     ]
    }
   ],
   "source": [
    "# Find the critical value of the test\n",
    "\n",
    "critical_value = chi2.ppf(1-acceptance_criteria, dof)\n",
    "\n",
    "print(critical_value)"
   ]
  },
  {
   "cell_type": "code",
   "execution_count": 26,
   "metadata": {},
   "outputs": [
    {
     "name": "stdout",
     "output_type": "stream",
     "text": [
      "As our chi2 of 1.9414468614812481 is lower than our critical value of 3.841458820694124, we retain the null-hypothesis and conclude that There is NO relationship between mailer type and signup rates\n"
     ]
    }
   ],
   "source": [
    "# Print of result\n",
    "\n",
    "if chi2_statistic >= critical_value:\n",
    "    print(f'As our chi2 of {chi2_statistic} is higher than our critical value of {critical_value}, we reject the null-hypothesis and conclude that {alternate_hypothesis}')\n",
    "    \n",
    "else:\n",
    "    print(f'As our chi2 of {chi2_statistic} is lower than our critical value of {critical_value}, we retain the null-hypothesis and conclude that {null_hypothesis}')"
   ]
  },
  {
   "cell_type": "code",
   "execution_count": 27,
   "metadata": {},
   "outputs": [
    {
     "name": "stdout",
     "output_type": "stream",
     "text": [
      "As our P-Value of 0.16351152223398197 is higher than our acceptance criteria of 0.05, we retain the null-hypothesis and conclude that There is NO relationship between mailer type and signup rates\n"
     ]
    }
   ],
   "source": [
    "# P-Value version\n",
    "\n",
    "if p_value <= acceptance_criteria:\n",
    "    print(f'As our P-Value of {p_value} is lower than our acceptance criteria of {acceptance_criteria}, we reject the null-hypothesis and conclude that {alternate_hypothesis}')\n",
    "    \n",
    "else:\n",
    "    print(f'As our P-Value of {p_value} is higher than our acceptance criteria of {acceptance_criteria}, we retain the null-hypothesis and conclude that {null_hypothesis}')"
   ]
  }
 ],
 "metadata": {
  "kernelspec": {
   "display_name": "data-science-env",
   "language": "python",
   "name": "python3"
  },
  "language_info": {
   "codemirror_mode": {
    "name": "ipython",
    "version": 3
   },
   "file_extension": ".py",
   "mimetype": "text/x-python",
   "name": "python",
   "nbconvert_exporter": "python",
   "pygments_lexer": "ipython3",
   "version": "3.12.4"
  }
 },
 "nbformat": 4,
 "nbformat_minor": 2
}
