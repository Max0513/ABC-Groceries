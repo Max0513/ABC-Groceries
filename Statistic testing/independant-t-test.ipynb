{
 "cells": [
  {
   "cell_type": "markdown",
   "metadata": {},
   "source": [
    "# Independant t-test\n",
    "\n",
    "Used to compare the means of two samples to assess their statistical significance"
   ]
  },
  {
   "cell_type": "code",
   "execution_count": 1,
   "metadata": {},
   "outputs": [],
   "source": [
    "# Import packages\n",
    "\n",
    "import numpy as np\n",
    "import matplotlib.pyplot as plt\n",
    "from scipy.stats import ttest_ind, norm"
   ]
  },
  {
   "cell_type": "code",
   "execution_count": 2,
   "metadata": {},
   "outputs": [],
   "source": [
    "# Create data to work with\n",
    "\n",
    "sampleA = norm.rvs(loc=500, # Mean\n",
    "                      scale=100, # STD \n",
    "                      size=250, # Number of data point\n",
    "                      random_state=42\n",
    "                      ).astype(int)\n",
    "\n",
    "sampleB = norm.rvs(loc=550, # Mean\n",
    "                      scale=150, # STD \n",
    "                      size=100, # Number of data point\n",
    "                      random_state=42\n",
    "                      ).astype(int)\n",
    "\n",
    "\n",
    "SAMPLEA = sampleA\n",
    "SAMPLEB = sampleB"
   ]
  },
  {
   "cell_type": "markdown",
   "metadata": {},
   "source": [
    "## Define variables to be used."
   ]
  },
  {
   "cell_type": "code",
   "execution_count": 3,
   "metadata": {},
   "outputs": [],
   "source": [
    "# Global variables\n",
    "\n",
    "SAMPLEA = sampleA\n",
    "SAMPLEB = sampleB\n",
    "ACCEPTANCE_CRITERIA = 0.05"
   ]
  },
  {
   "cell_type": "code",
   "execution_count": 4,
   "metadata": {},
   "outputs": [
    {
     "data": {
      "image/png": "[encoded data removed]",
      "text/plain": [
       "<Figure size 640x480 with 1 Axes>"
      ]
     },
     "metadata": {},
     "output_type": "display_data"
    }
   ],
   "source": [
    "# Visualize generated data\n",
    "\n",
    "#Population hist\n",
    "plt.hist(SAMPLEA,\n",
    "         density = True, # plots proportions instead of values\n",
    "         alpha = 0.5,\n",
    "         label = 'Sample A'\n",
    "         )\n",
    "# Sample hist\n",
    "plt.hist(SAMPLEB,\n",
    "         density = True, # plots proportions instead of values\n",
    "         alpha = 0.5,\n",
    "         label = 'Sample B'\n",
    "         )\n",
    "\n",
    "plt.legend()\n",
    "plt.show()"
   ]
  },
  {
   "cell_type": "code",
   "execution_count": 5,
   "metadata": {},
   "outputs": [
    {
     "name": "stdout",
     "output_type": "stream",
     "text": [
      "Means: \n",
      "Sample A : 499.264\n",
      "SampleB : 533.95\n"
     ]
    }
   ],
   "source": [
    "# Get the means\n",
    "\n",
    "SA_mean = SAMPLEA.mean()\n",
    "SB_mean = SAMPLEB.mean()\n",
    "\n",
    "print(f'Means: \\nSample A : {SA_mean}\\nSampleB : {SB_mean}')"
   ]
  },
  {
   "cell_type": "code",
   "execution_count": 6,
   "metadata": {},
   "outputs": [],
   "source": [
    "# State our hypothesis\n",
    "\n",
    "null_hypothesis = 'The mean of the Sample A is EQUAL to the mean of the Sample B'\n",
    "alternate_hypothesis = 'The mean of the Sample A is DIFFERENT to the mean of the Sample B'"
   ]
  },
  {
   "cell_type": "code",
   "execution_count": 7,
   "metadata": {},
   "outputs": [
    {
     "name": "stdout",
     "output_type": "stream",
     "text": [
      "T Stat: -2.68121105524328\n",
      "P Value: 0.007685002595835944\n"
     ]
    }
   ],
   "source": [
    "# Compute statistics for independant test\n",
    "\n",
    "t_statistic, p_value = ttest_ind(SAMPLEA, SAMPLEB)\n",
    "print(f'T Stat: {t_statistic}\\nP Value: {p_value}')"
   ]
  },
  {
   "cell_type": "code",
   "execution_count": 8,
   "metadata": {},
   "outputs": [
    {
     "name": "stdout",
     "output_type": "stream",
     "text": [
      "T Stat: -2.3241387495392147\n",
      "P Value: 0.021550514737168628\n"
     ]
    }
   ],
   "source": [
    "# Compute statistics for welch's test\n",
    "\n",
    "welch_t_statistic, welch_p_value = ttest_ind(SAMPLEA, SAMPLEB, equal_var=False)\n",
    "print(f'T Stat: {welch_t_statistic}\\nP Value: {welch_p_value}')\n",
    "\n",
    "# works better when sample size and variance differ"
   ]
  },
  {
   "cell_type": "code",
   "execution_count": 9,
   "metadata": {},
   "outputs": [
    {
     "name": "stdout",
     "output_type": "stream",
     "text": [
      "As our P-Value of 0.007685002595835944 is lower than our acceptance criteria of 0.05, we reject the null-hypothesis and conclude that The mean of the Sample A is DIFFERENT to the mean of the Sample B\n"
     ]
    }
   ],
   "source": [
    "# State our result\n",
    "\n",
    "if p_value <= ACCEPTANCE_CRITERIA:\n",
    "    print(f'As our P-Value of {p_value} is lower than our acceptance criteria of {ACCEPTANCE_CRITERIA}, we reject the null-hypothesis and conclude that {alternate_hypothesis}')\n",
    "    \n",
    "else:\n",
    "    print(f'As our P-Value of {p_value} is higher than our acceptance criteria of {ACCEPTANCE_CRITERIA}, we retain the null-hypothesis and conclude that {null_hypothesis}')"
   ]
  }
 ],
 "metadata": {
  "kernelspec": {
   "display_name": "data-science-env",
   "language": "python",
   "name": "python3"
  },
  "language_info": {
   "codemirror_mode": {
    "name": "ipython",
    "version": 3
   },
   "file_extension": ".py",
   "mimetype": "text/x-python",
   "name": "python",
   "nbconvert_exporter": "python",
   "pygments_lexer": "ipython3",
   "version": "3.12.4"
  }
 },
 "nbformat": 4,
 "nbformat_minor": 2
}
