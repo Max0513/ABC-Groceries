{
 "cells": [
  {
   "cell_type": "markdown",
   "metadata": {},
   "source": [
    "# Paired sample t-test\n",
    "\n",
    "Used for comparing a sample prior and after some event to figure out if there was a change.\n",
    "\n",
    "random data generated for demonstration purposes."
   ]
  },
  {
   "cell_type": "code",
   "execution_count": 8,
   "metadata": {},
   "outputs": [],
   "source": [
    "# Import packages\n",
    "\n",
    "import numpy as np\n",
    "import matplotlib.pyplot as plt\n",
    "from scipy.stats import ttest_rel, norm"
   ]
  },
  {
   "cell_type": "code",
   "execution_count": 9,
   "metadata": {},
   "outputs": [],
   "source": [
    "# Create data to work with\n",
    "\n",
    "before = norm.rvs(loc=500, # Mean\n",
    "                      scale=100, # STD \n",
    "                      size=100, # Number of data point\n",
    "                      random_state=42\n",
    "                      ).astype(int)\n",
    "\n",
    "np.random.seed(42)\n",
    "\n",
    "after = before + np.random.randint(low = -50, high = 75, size = 100)\n",
    "\n",
    "BEFORE = before\n",
    "AFTER = after"
   ]
  },
  {
   "cell_type": "markdown",
   "metadata": {},
   "source": [
    "## Define variables to be used."
   ]
  },
  {
   "cell_type": "code",
   "execution_count": 10,
   "metadata": {},
   "outputs": [],
   "source": [
    "# Global variables\n",
    "BEFORE = before\n",
    "AFTER = after\n",
    "ACCEPTANCE_CRITERIA = 0.05"
   ]
  },
  {
   "cell_type": "code",
   "execution_count": 11,
   "metadata": {},
   "outputs": [
    {
     "data": {
      "image/png": "[encoded data removed]",
      "text/plain": [
       "<Figure size 640x480 with 1 Axes>"
      ]
     },
     "metadata": {},
     "output_type": "display_data"
    }
   ],
   "source": [
    "# Visualize generated data\n",
    "\n",
    "#Population hist\n",
    "plt.hist(BEFORE,\n",
    "         density = True, # plots proportions instead of values\n",
    "         alpha = 0.5,\n",
    "         label= 'before' \n",
    "         )\n",
    "# Sample hist\n",
    "plt.hist(AFTER,\n",
    "         density = True, # plots proportions instead of values\n",
    "         alpha = 0.5,\n",
    "         label = 'After' \n",
    "         )\n",
    "\n",
    "plt.legend()\n",
    "plt.show()"
   ]
  },
  {
   "cell_type": "code",
   "execution_count": 12,
   "metadata": {},
   "outputs": [
    {
     "name": "stdout",
     "output_type": "stream",
     "text": [
      "Means: \n",
      "Sample A : 489.15\n",
      "Sample B : 499.45\n"
     ]
    }
   ],
   "source": [
    "# Get the means\n",
    "\n",
    "before_mean = BEFORE.mean()\n",
    "after_mean = AFTER.mean()\n",
    "\n",
    "print(f'Means: \\nSample A : {before_mean}\\nSample B : {after_mean}')"
   ]
  },
  {
   "cell_type": "code",
   "execution_count": 13,
   "metadata": {},
   "outputs": [],
   "source": [
    "# State our hypothesis\n",
    "\n",
    "null_hypothesis = 'The mean of the before sample is EQUAL to the mean of the  after sample'\n",
    "alternate_hypothesis = 'The mean  of the before sample is DIFFERENT to the mean of the after sample'"
   ]
  },
  {
   "cell_type": "code",
   "execution_count": 14,
   "metadata": {},
   "outputs": [
    {
     "name": "stdout",
     "output_type": "stream",
     "text": [
      "T Stat: -2.8179652769230237\n",
      "P Value: 0.005835901774122185\n"
     ]
    }
   ],
   "source": [
    "# Compute statistics for independant test\n",
    "\n",
    "t_statistic, p_value = ttest_rel(BEFORE, AFTER)\n",
    "print(f'T Stat: {t_statistic}\\nP Value: {p_value}')"
   ]
  },
  {
   "cell_type": "code",
   "execution_count": 15,
   "metadata": {},
   "outputs": [
    {
     "name": "stdout",
     "output_type": "stream",
     "text": [
      "As our P-Value of 0.005835901774122185 is lower than our acceptance criteria of 0.05, we reject the null-hypothesis and conclude that The mean  of the before sample is DIFFERENT to the mean of the after sample\n"
     ]
    }
   ],
   "source": [
    "# State our result\n",
    "\n",
    "if p_value <= ACCEPTANCE_CRITERIA:\n",
    "    print(f'As our P-Value of {p_value} is lower than our acceptance criteria of {ACCEPTANCE_CRITERIA}, we reject the null-hypothesis and conclude that {alternate_hypothesis}')\n",
    "    \n",
    "else:\n",
    "    print(f'As our P-Value of {p_value} is higher than our acceptance criteria of {ACCEPTANCE_CRITERIA}, we retain the null-hypothesis and conclude that {null_hypothesis}')"
   ]
  }
 ],
 "metadata": {
  "kernelspec": {
   "display_name": "data-science-env",
   "language": "python",
   "name": "python3"
  },
  "language_info": {
   "codemirror_mode": {
    "name": "ipython",
    "version": 3
   },
   "file_extension": ".py",
   "mimetype": "text/x-python",
   "name": "python",
   "nbconvert_exporter": "python",
   "pygments_lexer": "ipython3",
   "version": "3.12.4"
  }
 },
 "nbformat": 4,
 "nbformat_minor": 2
}
