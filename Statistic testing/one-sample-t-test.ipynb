{
 "cells": [
  {
   "cell_type": "code",
   "execution_count": 1,
   "metadata": {},
   "outputs": [],
   "source": [
    "# Import packages\n",
    "\n",
    "import numpy as np\n",
    "import matplotlib.pyplot as plt\n",
    "from scipy.stats import ttest_1samp, norm"
   ]
  },
  {
   "cell_type": "code",
   "execution_count": 2,
   "metadata": {},
   "outputs": [],
   "source": [
    "# Create data to work with\n",
    "\n",
    "population = norm.rvs(loc=500, # Mean\n",
    "                      scale=100, # STD \n",
    "                      size=1000, # Number of data point\n",
    "                      random_state=42\n",
    "                      ).astype(int)"
   ]
  },
  {
   "cell_type": "code",
   "execution_count": 3,
   "metadata": {},
   "outputs": [],
   "source": [
    "# Generate sample\n",
    "\n",
    "np.random.seed(42)\n",
    "\n",
    "sample = np.random.choice(population, \n",
    "                          250 # Number of data points\n",
    "                          )"
   ]
  },
  {
   "cell_type": "code",
   "execution_count": 4,
   "metadata": {},
   "outputs": [
    {
     "data": {
      "image/png": "[encoded data removed]",
      "text/plain": [
       "<Figure size 640x480 with 1 Axes>"
      ]
     },
     "metadata": {},
     "output_type": "display_data"
    }
   ],
   "source": [
    "# Visualize generated data\n",
    "\n",
    "#Population hist\n",
    "plt.hist(population,\n",
    "         density = True, # plots proportions instead of values\n",
    "         alpha = 0.5 \n",
    "         )\n",
    "# Sample hist\n",
    "plt.hist(sample,\n",
    "         density = True, # plots proportions instead of values\n",
    "         alpha = 0.5 \n",
    "         )\n",
    "\n",
    "plt.show()"
   ]
  },
  {
   "cell_type": "code",
   "execution_count": 5,
   "metadata": {},
   "outputs": [
    {
     "name": "stdout",
     "output_type": "stream",
     "text": [
      "Means: \n",
      "Population : 501.43\n",
      "Sample : 503.344\n"
     ]
    }
   ],
   "source": [
    "# Get the means\n",
    "\n",
    "pop_mean = population.mean()\n",
    "sample_mean = sample.mean()\n",
    "\n",
    "print(f'Means: \\nPopulation : {pop_mean}\\nSample : {sample_mean}')"
   ]
  },
  {
   "cell_type": "code",
   "execution_count": 6,
   "metadata": {},
   "outputs": [],
   "source": [
    "# State our hypothesis\n",
    "\n",
    "null_hypothesis = 'The mean of the Sample is EQUAL to the mean of the Population'\n",
    "alternate_hypothesis = 'The mean of the Sample is DIFFERENT to the mean of the Population'\n",
    "acceptance_criteria = 0.05"
   ]
  },
  {
   "cell_type": "code",
   "execution_count": 7,
   "metadata": {},
   "outputs": [
    {
     "name": "stdout",
     "output_type": "stream",
     "text": [
      "T Stat: 0.30898519995058266\n",
      "P Value: 0.7575911611764024\n"
     ]
    }
   ],
   "source": [
    "# Compute statistics\n",
    "\n",
    "t_statistic, p_value = ttest_1samp(sample, pop_mean)\n",
    "print(f'T Stat: {t_statistic}\\nP Value: {p_value}')"
   ]
  },
  {
   "cell_type": "code",
   "execution_count": 8,
   "metadata": {},
   "outputs": [
    {
     "name": "stdout",
     "output_type": "stream",
     "text": [
      "As our P-Value of 0.7575911611764024 is higher than our acceptance criteria of 0.05, we retain the null-hypothesis and conclude that The mean of the Sample is EQUAL to the mean of the Population\n"
     ]
    }
   ],
   "source": [
    "# State our result\n",
    "\n",
    "if p_value <= acceptance_criteria:\n",
    "    print(f'As our P-Value of {p_value} is lower than our acceptance criteria of {acceptance_criteria}, we reject the null-hypothesis and conclude that {alternate_hypothesis}')\n",
    "    \n",
    "else:\n",
    "    print(f'As our P-Value of {p_value} is higher than our acceptance criteria of {acceptance_criteria}, we retain the null-hypothesis and conclude that {null_hypothesis}')"
   ]
  }
 ],
 "metadata": {
  "kernelspec": {
   "display_name": "data-science-env",
   "language": "python",
   "name": "python3"
  },
  "language_info": {
   "codemirror_mode": {
    "name": "ipython",
    "version": 3
   },
   "file_extension": ".py",
   "mimetype": "text/x-python",
   "name": "python",
   "nbconvert_exporter": "python",
   "pygments_lexer": "ipython3",
   "version": "3.12.4"
  }
 },
 "nbformat": 4,
 "nbformat_minor": 2
}
